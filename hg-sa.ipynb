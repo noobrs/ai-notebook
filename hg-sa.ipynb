{
 "cells": [
  {
   "cell_type": "code",
   "execution_count": 1,
   "id": "e98b12b2",
   "metadata": {},
   "outputs": [
    {
     "name": "stderr",
     "output_type": "stream",
     "text": [
      "d:\\ai-notebook\\venv\\lib\\site-packages\\tqdm\\auto.py:21: TqdmWarning: IProgress not found. Please update jupyter and ipywidgets. See https://ipywidgets.readthedocs.io/en/stable/user_install.html\n",
      "  from .autonotebook import tqdm as notebook_tqdm\n",
      "d:\\ai-notebook\\venv\\lib\\site-packages\\huggingface_hub\\file_download.py:143: UserWarning: `huggingface_hub` cache-system uses symlinks by default to efficiently store duplicated files but your machine does not support them in C:\\Users\\Vin Sen\\.cache\\huggingface\\hub\\datasets--SetFit--sst5. Caching files will still work but in a degraded version that might require more space on your disk. This warning can be disabled by setting the `HF_HUB_DISABLE_SYMLINKS_WARNING` environment variable. For more details, see https://huggingface.co/docs/huggingface_hub/how-to-cache#limitations.\n",
      "To support symlinks on Windows, you either need to activate Developer Mode or to run Python as an administrator. In order to activate developer mode, see this article: https://docs.microsoft.com/en-us/windows/apps/get-started/enable-your-device-for-development\n",
      "  warnings.warn(message)\n",
      "Repo card metadata block was not found. Setting CardData to empty.\n",
      "Generating train split: 100%|██████████| 8544/8544 [00:00<00:00, 236465.65 examples/s]\n",
      "Generating validation split: 100%|██████████| 1101/1101 [00:00<00:00, 125306.72 examples/s]\n",
      "Generating test split: 100%|██████████| 2210/2210 [00:00<00:00, 205698.95 examples/s]\n"
     ]
    }
   ],
   "source": [
    "from datasets import load_dataset\n",
    "\n",
    "# SST-5 (five classes)\n",
    "ds5 = load_dataset(\"SetFit/sst5\")"
   ]
  },
  {
   "cell_type": "code",
   "execution_count": 2,
   "id": "57501b4b",
   "metadata": {},
   "outputs": [
    {
     "data": {
      "text/plain": [
       "DatasetDict({\n",
       "    train: Dataset({\n",
       "        features: ['text', 'label', 'label_text'],\n",
       "        num_rows: 8544\n",
       "    })\n",
       "    validation: Dataset({\n",
       "        features: ['text', 'label', 'label_text'],\n",
       "        num_rows: 1101\n",
       "    })\n",
       "    test: Dataset({\n",
       "        features: ['text', 'label', 'label_text'],\n",
       "        num_rows: 2210\n",
       "    })\n",
       "})"
      ]
     },
     "execution_count": 2,
     "metadata": {},
     "output_type": "execute_result"
    }
   ],
   "source": [
    "ds5"
   ]
  },
  {
   "cell_type": "code",
   "execution_count": 9,
   "id": "3dfbdf19",
   "metadata": {},
   "outputs": [
    {
     "name": "stdout",
     "output_type": "stream",
     "text": [
      "Train DataFrame:\n",
      "                                                text  label     label_text\n",
      "0  a stirring , funny and finally transporting re...      4  very positive\n",
      "1  apparently reassembled from the cutting-room f...      1       negative\n",
      "2  they presume their audience wo n't sit still f...      1       negative\n",
      "3  the entire movie is filled with deja vu moments .      2        neutral\n",
      "4  this is a visually stunning rumination on love...      3       positive\n",
      "Shape: (8544, 3)\n",
      "\n",
      "Test DataFrame:\n",
      "                                                text  label     label_text\n",
      "0     no movement , no yuks , not much of anything .      1       negative\n",
      "1  a gob of drivel so sickly sweet , even the eag...      0  very negative\n",
      "2  ` how many more voyages can this limping but d...      2        neutral\n",
      "3  so relentlessly wholesome it made me want to s...      2        neutral\n",
      "4  gangs of new york is an unapologetic mess , wh...      0  very negative\n",
      "Shape: (2210, 3)\n",
      "\n",
      "Validation DataFrame:\n",
      "                                                text  label     label_text\n",
      "0  in his first stab at the form , jacquot takes ...      2        neutral\n",
      "1                       one long string of cliches .      1       negative\n",
      "2  if you 've ever entertained the notion of doin...      1       negative\n",
      "3  k-19 exploits our substantial collective fear ...      0  very negative\n",
      "4  it 's played in the most straight-faced fashio...      1       negative\n",
      "Shape: (1101, 3)\n"
     ]
    }
   ],
   "source": [
    "import pandas as pd\n",
    "\n",
    "# Convert each split to DataFrame\n",
    "train_df = pd.DataFrame(ds5['train'])\n",
    "test_df = pd.DataFrame(ds5['test'])\n",
    "validation_df = pd.DataFrame(ds5['validation'])\n",
    "\n",
    "full_df = pd.concat([train_df, test_df, validation_df], ignore_index=True)\n",
    "\n",
    "# Display basic info\n",
    "print(\"Train DataFrame:\")\n",
    "print(train_df.head())\n",
    "print(f\"Shape: {train_df.shape}\")\n",
    "\n",
    "print(\"\\nTest DataFrame:\")\n",
    "print(test_df.head())\n",
    "print(f\"Shape: {test_df.shape}\")\n",
    "\n",
    "print(\"\\nValidation DataFrame:\")\n",
    "print(validation_df.head())\n",
    "print(f\"Shape: {validation_df.shape}\")"
   ]
  },
  {
   "cell_type": "code",
   "execution_count": 11,
   "id": "0878744f",
   "metadata": {},
   "outputs": [
    {
     "name": "stdout",
     "output_type": "stream",
     "text": [
      "<class 'pandas.core.frame.DataFrame'>\n",
      "RangeIndex: 11855 entries, 0 to 11854\n",
      "Data columns (total 3 columns):\n",
      " #   Column      Non-Null Count  Dtype \n",
      "---  ------      --------------  ----- \n",
      " 0   text        11855 non-null  object\n",
      " 1   label       11855 non-null  int64 \n",
      " 2   label_text  11855 non-null  object\n",
      "dtypes: int64(1), object(2)\n",
      "memory usage: 278.0+ KB\n"
     ]
    }
   ],
   "source": [
    "full_df.info()"
   ]
  },
  {
   "cell_type": "code",
   "execution_count": 12,
   "id": "17a5b4ba",
   "metadata": {},
   "outputs": [
    {
     "data": {
      "text/html": [
       "<div>\n",
       "<style scoped>\n",
       "    .dataframe tbody tr th:only-of-type {\n",
       "        vertical-align: middle;\n",
       "    }\n",
       "\n",
       "    .dataframe tbody tr th {\n",
       "        vertical-align: top;\n",
       "    }\n",
       "\n",
       "    .dataframe thead th {\n",
       "        text-align: right;\n",
       "    }\n",
       "</style>\n",
       "<table border=\"1\" class=\"dataframe\">\n",
       "  <thead>\n",
       "    <tr style=\"text-align: right;\">\n",
       "      <th></th>\n",
       "      <th>label</th>\n",
       "    </tr>\n",
       "  </thead>\n",
       "  <tbody>\n",
       "    <tr>\n",
       "      <th>count</th>\n",
       "      <td>11855.000000</td>\n",
       "    </tr>\n",
       "    <tr>\n",
       "      <th>mean</th>\n",
       "      <td>2.055251</td>\n",
       "    </tr>\n",
       "    <tr>\n",
       "      <th>std</th>\n",
       "      <td>1.287924</td>\n",
       "    </tr>\n",
       "    <tr>\n",
       "      <th>min</th>\n",
       "      <td>0.000000</td>\n",
       "    </tr>\n",
       "    <tr>\n",
       "      <th>25%</th>\n",
       "      <td>1.000000</td>\n",
       "    </tr>\n",
       "    <tr>\n",
       "      <th>50%</th>\n",
       "      <td>2.000000</td>\n",
       "    </tr>\n",
       "    <tr>\n",
       "      <th>75%</th>\n",
       "      <td>3.000000</td>\n",
       "    </tr>\n",
       "    <tr>\n",
       "      <th>max</th>\n",
       "      <td>4.000000</td>\n",
       "    </tr>\n",
       "  </tbody>\n",
       "</table>\n",
       "</div>"
      ],
      "text/plain": [
       "              label\n",
       "count  11855.000000\n",
       "mean       2.055251\n",
       "std        1.287924\n",
       "min        0.000000\n",
       "25%        1.000000\n",
       "50%        2.000000\n",
       "75%        3.000000\n",
       "max        4.000000"
      ]
     },
     "execution_count": 12,
     "metadata": {},
     "output_type": "execute_result"
    }
   ],
   "source": [
    "full_df.describe()"
   ]
  },
  {
   "cell_type": "code",
   "execution_count": 13,
   "id": "62b6723b",
   "metadata": {},
   "outputs": [
    {
     "name": "stdout",
     "output_type": "stream",
     "text": [
      "\n",
      "Cross-tabulation of label vs label_text:\n",
      "label_text  negative  neutral  positive  very negative  very positive    All\n",
      "label                                                                       \n",
      "0                  0        0         0           1510              0   1510\n",
      "1               3140        0         0              0              0   3140\n",
      "2                  0     2242         0              0              0   2242\n",
      "3                  0        0      3111              0              0   3111\n",
      "4                  0        0         0              0           1852   1852\n",
      "All             3140     2242      3111           1510           1852  11855\n"
     ]
    }
   ],
   "source": [
    "# Cross-tabulation to see the relationship\n",
    "crosstab = pd.crosstab(full_df['label'], full_df['label_text'], margins=True)\n",
    "print(\"\\nCross-tabulation of label vs label_text:\")\n",
    "print(crosstab)"
   ]
  },
  {
   "cell_type": "code",
   "execution_count": 21,
   "id": "34202465",
   "metadata": {},
   "outputs": [
    {
     "name": "stdout",
     "output_type": "stream",
     "text": [
      "📝 Label 0 - VERY NEGATIVE\n",
      "Text: final verdict : you 've seen it all before .\n",
      "\n",
      "📝 Label 1 - NEGATIVE\n",
      "Text: apparently reassembled from the cutting-room floor of any given daytime soap .\n",
      "\n",
      "📝 Label 2 - NEUTRAL\n",
      "Text: the entire movie is filled with deja vu moments .\n",
      "\n",
      "📝 Label 3 - POSITIVE\n",
      "Text: this is a visually stunning rumination on love , memory , history and the war between art and commerce .\n",
      "\n",
      "📝 Label 4 - VERY POSITIVE\n",
      "Text: a stirring , funny and finally transporting re-imagining of beauty and the beast and 1930s horror films\n",
      "\n"
     ]
    }
   ],
   "source": [
    "# Display samples in a cleaner format\n",
    "for label in sorted(full_df['label'].unique()):\n",
    "    label_data = full_df[full_df['label'] == label].iloc[0]\n",
    "    \n",
    "    print(f\"📝 Label {label} - {label_data['label_text'].upper()}\")\n",
    "    print(f\"Text: {label_data['text']}\")\n",
    "    print()"
   ]
  },
  {
   "cell_type": "code",
   "execution_count": 23,
   "id": "8ddd8a68",
   "metadata": {},
   "outputs": [
    {
     "name": "stdout",
     "output_type": "stream",
     "text": [
      "Text Length Statistics:\n",
      "========================================\n",
      "count    11855.000000\n",
      "mean       102.742218\n",
      "std         51.019918\n",
      "min          4.000000\n",
      "25%         63.000000\n",
      "50%         99.000000\n",
      "75%        137.000000\n",
      "max        283.000000\n",
      "Name: text_length, dtype: float64\n",
      "\n",
      "Shortest text: 4 characters\n",
      "Longest text: 283 characters\n",
      "Average text length: 102.74 characters\n",
      "\n",
      "Shortest text example:\n",
      "'eh .'\n",
      "\n",
      "Longest text example:\n",
      "'... spiced with humor -lrb- ' i speak fluent flatula , ' advises denlopp after a rather , er , bubbly exchange with an alien deckhand -rrb- and witty updatings -lrb- silver 's parrot has been replaced with morph , a cute alien creature who mimics everyone and everything around -rrb-'\n"
     ]
    },
    {
     "data": {
      "image/png": "[encoded data removed]",
      "text/plain": [
       "<Figure size 1200x400 with 2 Axes>"
      ]
     },
     "metadata": {},
     "output_type": "display_data"
    }
   ],
   "source": [
    "# Calculate text lengths\n",
    "full_df['text_length'] = full_df['text'].str.len()\n",
    "\n",
    "# Display basic statistics about text lengths\n",
    "print(\"Text Length Statistics:\")\n",
    "print(\"=\" * 40)\n",
    "print(full_df['text_length'].describe())\n",
    "\n",
    "print(f\"\\nShortest text: {full_df['text_length'].min()} characters\")\n",
    "print(f\"Longest text: {full_df['text_length'].max()} characters\")\n",
    "print(f\"Average text length: {full_df['text_length'].mean():.2f} characters\")\n",
    "\n",
    "# Show the shortest and longest texts\n",
    "print(f\"\\nShortest text example:\")\n",
    "shortest_idx = full_df['text_length'].idxmin()\n",
    "print(f\"'{full_df.loc[shortest_idx, 'text']}'\")\n",
    "\n",
    "print(f\"\\nLongest text example:\")\n",
    "longest_idx = full_df['text_length'].idxmax()\n",
    "print(f\"'{full_df.loc[longest_idx, 'text']}'\")\n",
    "\n",
    "# Plot text length distribution\n",
    "import matplotlib.pyplot as plt\n",
    "\n",
    "plt.figure(figsize=(12, 4))\n",
    "\n",
    "plt.subplot(1, 2, 1)\n",
    "full_df['text_length'].hist(bins=50, alpha=0.7)\n",
    "plt.title('Text Length Distribution')\n",
    "plt.xlabel('Number of Characters')\n",
    "plt.ylabel('Frequency')\n",
    "\n",
    "plt.subplot(1, 2, 2)\n",
    "full_df['text_length'].plot(kind='box')\n",
    "plt.title('Text Length Box Plot')\n",
    "plt.ylabel('Number of Characters')\n",
    "\n",
    "plt.tight_layout()\n",
    "plt.show()"
   ]
  },
  {
   "cell_type": "code",
   "execution_count": 28,
   "id": "f3713945",
   "metadata": {},
   "outputs": [
    {
     "data": {
      "text/html": [
       "<div>\n",
       "<style scoped>\n",
       "    .dataframe tbody tr th:only-of-type {\n",
       "        vertical-align: middle;\n",
       "    }\n",
       "\n",
       "    .dataframe tbody tr th {\n",
       "        vertical-align: top;\n",
       "    }\n",
       "\n",
       "    .dataframe thead th {\n",
       "        text-align: right;\n",
       "    }\n",
       "</style>\n",
       "<table border=\"1\" class=\"dataframe\">\n",
       "  <thead>\n",
       "    <tr style=\"text-align: right;\">\n",
       "      <th></th>\n",
       "      <th>text</th>\n",
       "      <th>label</th>\n",
       "      <th>label_text</th>\n",
       "      <th>text_length</th>\n",
       "    </tr>\n",
       "  </thead>\n",
       "  <tbody>\n",
       "    <tr>\n",
       "      <th>0</th>\n",
       "      <td>a stirring , funny and finally transporting re...</td>\n",
       "      <td>4</td>\n",
       "      <td>very positive</td>\n",
       "      <td>103</td>\n",
       "    </tr>\n",
       "    <tr>\n",
       "      <th>1</th>\n",
       "      <td>apparently reassembled from the cutting-room f...</td>\n",
       "      <td>1</td>\n",
       "      <td>negative</td>\n",
       "      <td>78</td>\n",
       "    </tr>\n",
       "    <tr>\n",
       "      <th>2</th>\n",
       "      <td>they presume their audience wo n't sit still f...</td>\n",
       "      <td>1</td>\n",
       "      <td>negative</td>\n",
       "      <td>225</td>\n",
       "    </tr>\n",
       "    <tr>\n",
       "      <th>3</th>\n",
       "      <td>the entire movie is filled with deja vu moments .</td>\n",
       "      <td>2</td>\n",
       "      <td>neutral</td>\n",
       "      <td>49</td>\n",
       "    </tr>\n",
       "    <tr>\n",
       "      <th>4</th>\n",
       "      <td>this is a visually stunning rumination on love...</td>\n",
       "      <td>3</td>\n",
       "      <td>positive</td>\n",
       "      <td>104</td>\n",
       "    </tr>\n",
       "    <tr>\n",
       "      <th>...</th>\n",
       "      <td>...</td>\n",
       "      <td>...</td>\n",
       "      <td>...</td>\n",
       "      <td>...</td>\n",
       "    </tr>\n",
       "    <tr>\n",
       "      <th>11850</th>\n",
       "      <td>`` the ring '' is pretty much an english-langu...</td>\n",
       "      <td>2</td>\n",
       "      <td>neutral</td>\n",
       "      <td>131</td>\n",
       "    </tr>\n",
       "    <tr>\n",
       "      <th>11851</th>\n",
       "      <td>smart , provocative and blisteringly funny .</td>\n",
       "      <td>3</td>\n",
       "      <td>positive</td>\n",
       "      <td>44</td>\n",
       "    </tr>\n",
       "    <tr>\n",
       "      <th>11852</th>\n",
       "      <td>this one is definitely one to skip , even for ...</td>\n",
       "      <td>0</td>\n",
       "      <td>very negative</td>\n",
       "      <td>69</td>\n",
       "    </tr>\n",
       "    <tr>\n",
       "      <th>11853</th>\n",
       "      <td>charles ' entertaining film chronicles seinfel...</td>\n",
       "      <td>3</td>\n",
       "      <td>positive</td>\n",
       "      <td>192</td>\n",
       "    </tr>\n",
       "    <tr>\n",
       "      <th>11854</th>\n",
       "      <td>an effectively creepy , fear-inducing -lrb- no...</td>\n",
       "      <td>4</td>\n",
       "      <td>very positive</td>\n",
       "      <td>187</td>\n",
       "    </tr>\n",
       "  </tbody>\n",
       "</table>\n",
       "<p>11855 rows × 4 columns</p>\n",
       "</div>"
      ],
      "text/plain": [
       "                                                    text  label  \\\n",
       "0      a stirring , funny and finally transporting re...      4   \n",
       "1      apparently reassembled from the cutting-room f...      1   \n",
       "2      they presume their audience wo n't sit still f...      1   \n",
       "3      the entire movie is filled with deja vu moments .      2   \n",
       "4      this is a visually stunning rumination on love...      3   \n",
       "...                                                  ...    ...   \n",
       "11850  `` the ring '' is pretty much an english-langu...      2   \n",
       "11851       smart , provocative and blisteringly funny .      3   \n",
       "11852  this one is definitely one to skip , even for ...      0   \n",
       "11853  charles ' entertaining film chronicles seinfel...      3   \n",
       "11854  an effectively creepy , fear-inducing -lrb- no...      4   \n",
       "\n",
       "          label_text  text_length  \n",
       "0      very positive          103  \n",
       "1           negative           78  \n",
       "2           negative          225  \n",
       "3            neutral           49  \n",
       "4           positive          104  \n",
       "...              ...          ...  \n",
       "11850        neutral          131  \n",
       "11851       positive           44  \n",
       "11852  very negative           69  \n",
       "11853       positive          192  \n",
       "11854  very positive          187  \n",
       "\n",
       "[11855 rows x 4 columns]"
      ]
     },
     "execution_count": 28,
     "metadata": {},
     "output_type": "execute_result"
    }
   ],
   "source": [
    "full_df"
   ]
  },
  {
   "cell_type": "code",
   "execution_count": 33,
   "id": "7a80f15f",
   "metadata": {},
   "outputs": [
    {
     "data": {
      "text/plain": [
       "5858"
      ]
     },
     "execution_count": 33,
     "metadata": {},
     "output_type": "execute_result"
    }
   ],
   "source": [
    "len([length for length in full_df['text'].str.len() if length >= 100])"
   ]
  },
  {
   "cell_type": "code",
   "execution_count": 34,
   "id": "d5e8a3fd",
   "metadata": {},
   "outputs": [
    {
     "data": {
      "text/plain": [
       "5997"
      ]
     },
     "execution_count": 34,
     "metadata": {},
     "output_type": "execute_result"
    }
   ],
   "source": [
    "len([length for length in full_df['text'].str.len() if length < 100])"
   ]
  },
  {
   "cell_type": "code",
   "execution_count": 35,
   "id": "3253bc25",
   "metadata": {},
   "outputs": [
    {
     "data": {
      "text/plain": [
       "11855"
      ]
     },
     "execution_count": 35,
     "metadata": {},
     "output_type": "execute_result"
    }
   ],
   "source": [
    "5997 + 5858"
   ]
  },
  {
   "cell_type": "code",
   "execution_count": 36,
   "id": "f0ef7f40",
   "metadata": {},
   "outputs": [
    {
     "data": {
      "text/plain": [
       "19.16870518768452"
      ]
     },
     "execution_count": 36,
     "metadata": {},
     "output_type": "execute_result"
    }
   ],
   "source": [
    "sum = 0\n",
    "for word in full_df['text'].str.split():\n",
    "    sum += len(word)\n",
    "\n",
    "avg = sum / len(full_df['text'])\n",
    "avg"
   ]
  },
  {
   "cell_type": "code",
   "execution_count": 37,
   "id": "f294547e",
   "metadata": {},
   "outputs": [
    {
     "name": "stdout",
     "output_type": "stream",
     "text": [
      "Highest word count in a single text: 56\n"
     ]
    }
   ],
   "source": [
    "highest_word_count = full_df['text'].str.split().apply(len).max()\n",
    "print(f\"Highest word count in a single text: {highest_word_count}\")"
   ]
  },
  {
   "cell_type": "code",
   "execution_count": null,
   "id": "5ab277d4",
   "metadata": {},
   "outputs": [],
   "source": []
  }
 ],
 "metadata": {
  "kernelspec": {
   "display_name": "venv",
   "language": "python",
   "name": "python3"
  },
  "language_info": {
   "codemirror_mode": {
    "name": "ipython",
    "version": 3
   },
   "file_extension": ".py",
   "mimetype": "text/x-python",
   "name": "python",
   "nbconvert_exporter": "python",
   "pygments_lexer": "ipython3",
   "version": "3.10.11"
  }
 },
 "nbformat": 4,
 "nbformat_minor": 5
}
