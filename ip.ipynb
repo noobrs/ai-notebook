{
 "cells": [
  {
   "cell_type": "code",
   "execution_count": 1,
   "id": "9867eb7d",
   "metadata": {},
   "outputs": [],
   "source": [
    "import cv2\n",
    "import numpy as np\n",
    "import pywt\n",
    "from pathlib import Path"
   ]
  },
  {
   "cell_type": "code",
   "execution_count": 2,
   "id": "4981894d",
   "metadata": {},
   "outputs": [
    {
     "data": {
      "text/plain": [
       "-1"
      ]
     },
     "execution_count": 2,
     "metadata": {},
     "output_type": "execute_result"
    }
   ],
   "source": [
    "# ---------- I/O ----------\n",
    "# Path to host (cover) image – use any 8-bit grayscale or color file\n",
    "img_path = Path(r\"images\\chihuahua.webp\")\n",
    "img      = cv2.imread(str(img_path), cv2.IMREAD_GRAYSCALE)\n",
    "if img is None: \n",
    "    raise FileNotFoundError(img_path)\n",
    "\n",
    "cv2.imshow(\"Host Image\", img)\n",
    "cv2.waitKey(0)"
   ]
  },
  {
   "cell_type": "code",
   "execution_count": 3,
   "id": "8d236bb3",
   "metadata": {},
   "outputs": [
    {
     "name": "stdout",
     "output_type": "stream",
     "text": [
      "LL4 (approximation) shape : (68, 68)\n",
      "Level 1 —  LH4:(540, 540), HL4:(540, 540), HH4:(540, 540)\n",
      "Level 2 —  LH3:(270, 270), HL3:(270, 270), HH3:(270, 270)\n",
      "Level 3 —  LH2:(135, 135), HL2:(135, 135), HH2:(135, 135)\n",
      "Level 4 —  LH1:(68, 68), HL1:(68, 68), HH1:(68, 68)\n"
     ]
    }
   ],
   "source": [
    "# ---------- 4-Level Forward DWT ----------\n",
    "wavelet = \"haar\"                     # or 'db2', 'bior4.4', etc.\n",
    "level   = 4\n",
    "coeffs  = pywt.wavedec2(img, wavelet=wavelet, level=level)\n",
    "\n",
    "# coeffs structure:  [cA4, (cH4,cV4,cD4), (cH3,cV3,cD3), …, (cH1,cV1,cD1)]\n",
    "cA4, detail_coeffs = coeffs[0], coeffs[1:]\n",
    "\n",
    "print(\"LL4 (approximation) shape :\", cA4.shape)\n",
    "for i, (cH, cV, cD) in enumerate(detail_coeffs[::-1], start=1):\n",
    "    print(f\"Level {i} —  LH{5-i}:{cH.shape}, HL{5-i}:{cV.shape}, HH{5-i}:{cD.shape}\")"
   ]
  },
  {
   "cell_type": "code",
   "execution_count": 4,
   "id": "07130230",
   "metadata": {},
   "outputs": [],
   "source": [
    "# ---------- ⬇️ WATERMARK EMBEDDING POINT -------------------\n",
    "# Example: embed in HL4 band (cV at deepest level)\n",
    "# (Below just adds tiny noise to illustrate the spot; replace with your own logic.)\n",
    "\n",
    "wm_strength = 4      # small integer to keep imperceptible\n",
    "rng         = np.random.default_rng(42)\n",
    "\n",
    "# Modify *one* sub-band (e.g., HL4) for robustness\n",
    "cH4, cV4, cD4 = detail_coeffs[-1]           # deepest level bands\n",
    "embed_bits  = rng.integers(-wm_strength, wm_strength + 1, size=cV4.shape, dtype=np.int16)\n",
    "cV4_watermarked = cV4 + embed_bits          # embed by simple addition\n",
    "\n",
    "# Re-assemble the coefficient list with the modified band\n",
    "detail_coeffs[-1] = (cH4, cV4_watermarked, cD4)\n",
    "coeffs_watermarked = [cA4] + detail_coeffs"
   ]
  },
  {
   "cell_type": "code",
   "execution_count": 5,
   "id": "7df93fee",
   "metadata": {},
   "outputs": [],
   "source": [
    "# ---------- Inverse DWT (reconstruction) ----------\n",
    "watermarked_img = pywt.waverec2(coeffs_watermarked, wavelet).astype(np.uint8)"
   ]
  },
  {
   "cell_type": "code",
   "execution_count": 6,
   "id": "959e65b0",
   "metadata": {},
   "outputs": [
    {
     "data": {
      "text/plain": [
       "-1"
      ]
     },
     "execution_count": 6,
     "metadata": {},
     "output_type": "execute_result"
    }
   ],
   "source": [
    "# ---------- Save / inspect ----------\n",
    "# cv2.imwrite(\"watermarked.png\", watermarked_img)\n",
    "# print(\"Watermarked image saved → watermarked.png\")\n",
    "\n",
    "cv2.imshow(\"Watermarked Image\", watermarked_img)\n",
    "cv2.waitKey(0)"
   ]
  },
  {
   "cell_type": "code",
   "execution_count": 26,
   "id": "19eed790",
   "metadata": {},
   "outputs": [],
   "source": [
    "# PSNR (Peak-Signal-to-Noise Ratio)\n",
    "def psnr(img1, img2, max_val=255.0):\n",
    "    mse = np.mean((img1.astype(np.float32) - img2.astype(np.float32))**2)\n",
    "    return 20 * np.log10(max_val) - 10 * np.log10(mse)\n",
    "\n",
    "# Bit-Error-Rate\n",
    "def ber(original, recovered):\n",
    "    diff = np.sum(original != recovered)\n",
    "    return diff / original.size"
   ]
  },
  {
   "cell_type": "code",
   "execution_count": 27,
   "id": "2f2b0b4c",
   "metadata": {},
   "outputs": [
    {
     "name": "stdout",
     "output_type": "stream",
     "text": [
      "PSNR host vs. watermarked: 45.63 dB\n"
     ]
    }
   ],
   "source": [
    "psnr_val = psnr(img, watermarked_img)\n",
    "print(f\"PSNR host vs. watermarked: {psnr_val:.2f} dB\")"
   ]
  },
  {
   "cell_type": "code",
   "execution_count": 28,
   "id": "2be30af0",
   "metadata": {},
   "outputs": [
    {
     "name": "stdout",
     "output_type": "stream",
     "text": [
      "BER (original ↔ extracted watermark): 0.5007\n"
     ]
    }
   ],
   "source": [
    "# ------------------------------------------------------------\n",
    "# 3️⃣  Extract watermark & BER\n",
    "# ------------------------------------------------------------\n",
    "# 💡  In a real attack you would start from a **received** image (possibly compressed).\n",
    "#      Here we use the freshly generated one just to show the pipeline.\n",
    "wm_bits      = rng.choice([-1, 1], size=cV4.shape, replace=True)   # original watermark\n",
    "coeffs_rcv       = pywt.wavedec2(watermarked_img, wavelet=wavelet, level=level)\n",
    "cA4_rcv, det_rcv = coeffs_rcv[0], coeffs_rcv[1:]\n",
    "cH4_rcv, cV4_rcv, cD4_rcv = det_rcv[-1]                       # HL4 band again\n",
    "\n",
    "# simple extraction: sign(cV4_rcv - original_cV4)  ⇒ ±1\n",
    "extracted_bits = np.sign(cV4_rcv - cV4).astype(int)\n",
    "# replace zeros (should be rare) with +1\n",
    "extracted_bits[extracted_bits == 0] = 1\n",
    "\n",
    "ber_val = ber(wm_bits, extracted_bits)\n",
    "print(f\"BER (original ↔ extracted watermark): {ber_val:.4f}\")"
   ]
  },
  {
   "cell_type": "code",
   "execution_count": 39,
   "id": "90b4ea92",
   "metadata": {},
   "outputs": [
    {
     "name": "stdout",
     "output_type": "stream",
     "text": [
      "✅ Watermarked image saved → watermarked.png\n",
      "PSNR: 39.11 dB\n",
      "BER:  0.0156\n",
      "✅ Extracted watermark saved → wm_extracted.png\n"
     ]
    }
   ],
   "source": [
    "# ------------------------------------------------------------\n",
    "# Robust watermarking by DWT-coefficient fusion\n",
    "# ------------------------------------------------------------\n",
    "# ⬇️  install once per Colab / venv\n",
    "# !pip install opencv-python pywavelets numpy\n",
    "\n",
    "import cv2, pywt, numpy as np\n",
    "from pathlib import Path\n",
    "\n",
    "# ========== 1. Load host & watermark ==========\n",
    "host_path      = Path(r\"images\\chihuahua.webp\")        # any 8-bit gray image, e.g. 512×512\n",
    "watermark_path = Path(r\"images\\watermark.jpg\")          # a *smaller* gray logo, e.g. 64×64\n",
    "host_img       = cv2.imread(str(host_path), cv2.IMREAD_GRAYSCALE)\n",
    "wm_img         = cv2.imread(str(watermark_path), cv2.IMREAD_GRAYSCALE)\n",
    "if host_img is None or wm_img is None:\n",
    "    raise FileNotFoundError(\"Check host / wm paths\")\n",
    "\n",
    "# optional: make watermark square & power-of-two for nicer shapes\n",
    "host_img = cv2.resize(host_img, (512, 512), interpolation=cv2.INTER_AREA)\n",
    "wm_img = cv2.resize(wm_img, (64, 64), interpolation=cv2.INTER_AREA)\n",
    "\n",
    "# ========== 2. Forward DWTs ==========\n",
    "wavelet, host_level = \"haar\", 4\n",
    "wm_level            = 1\n",
    "\n",
    "coeffs_host = pywt.wavedec2(host_img, wavelet=wavelet, level=host_level)\n",
    "cA4, detail_host   = coeffs_host[0], coeffs_host[1:]        # host coeff stack\n",
    "\n",
    "coeffs_wm  = pywt.wavedec2(wm_img,  wavelet=wavelet, level=wm_level)\n",
    "cA_wm, (cH_wm, cV_wm, cD_wm) = coeffs_wm                   # watermark LL₁ + details\n",
    "\n",
    "# ========== 3. Coefficient-fusion rule ==========\n",
    "# We embed watermark’s LL₁ into host’s HL₄ (cV4) after resizing if shapes differ.\n",
    "cH4, cV4, cD4           = detail_host[0]                   # HL₄, etc.\n",
    "wm_resized              = cv2.resize(cA_wm, cV4.shape[::-1], cv2.INTER_LINEAR)\n",
    "alpha                   = 0.12                               # embedding strength\n",
    "cV4_wm                  = cV4 + alpha * wm_resized          # fusion\n",
    "\n",
    "# put back the modified sub-band\n",
    "detail_host[0]         = (cH4, cV4_wm, cD4)\n",
    "coeffs_fused            = [cA4] + detail_host\n",
    "\n",
    "# ========== 4. Inverse DWT ⇒ watermarked image ==========\n",
    "watermarked_img = (\n",
    "    pywt.waverec2(coeffs_fused, wavelet)\n",
    "    .clip(0, 255)\n",
    "    .astype(np.uint8)\n",
    ")\n",
    "cv2.imwrite(\"watermarked.png\", watermarked_img)\n",
    "print(\"✅ Watermarked image saved → watermarked.png\")\n",
    "\n",
    "# ========== 5. PSNR (cover ↔ watermarked) ==========\n",
    "def psnr(a, b, max_val=255.0):\n",
    "    mse = np.mean((a.astype(np.float32) - b.astype(np.float32)) ** 2)\n",
    "    return 20 * np.log10(max_val) - 10 * np.log10(mse)\n",
    "\n",
    "print(f\"PSNR: {psnr(host_img, watermarked_img):.2f} dB\")\n",
    "\n",
    "# ========== 6. Extract watermark & BER ==========\n",
    "# (In practice, start from an attacked/received image.)\n",
    "coeffs_rcv            = pywt.wavedec2(watermarked_img, wavelet=wavelet, level=host_level)\n",
    "cA4_rcv, det_rcv      = coeffs_rcv[0], coeffs_rcv[1:]\n",
    "cH4_rcv, cV4_rcv, _   = det_rcv[0]\n",
    "\n",
    "extracted_LL1         = (cV4_rcv - cV4) / alpha            # reverse the fusion\n",
    "extracted_LL1         = np.round(extracted_LL1).astype(np.int16)\n",
    "\n",
    "# quick binary decision (assuming original watermark is 0/255)\n",
    "orig_bits      = (cA_wm > 127).astype(np.uint8)\n",
    "recv_bits      = (extracted_LL1 > 127).astype(np.uint8)\n",
    "ber            = np.mean(orig_bits != recv_bits)\n",
    "print(f\"BER:  {ber:.4f}\")\n",
    "\n",
    "# Optionally rebuild the watermark image for visual inspection\n",
    "coeffs_wm_rcv  = [extracted_LL1, (np.zeros_like(cH_wm),\n",
    "                                  np.zeros_like(cV_wm),\n",
    "                                  np.zeros_like(cD_wm))]\n",
    "wm_rcv_img     = pywt.waverec2(coeffs_wm_rcv, wavelet).clip(0,255).astype(np.uint8)\n",
    "cv2.imwrite(\"wm_extracted.png\", wm_rcv_img)\n",
    "print(\"✅ Extracted watermark saved → wm_extracted.png\")\n"
   ]
  },
  {
   "cell_type": "code",
   "execution_count": null,
   "id": "6ce49fb7",
   "metadata": {},
   "outputs": [],
   "source": []
  }
 ],
 "metadata": {
  "kernelspec": {
   "display_name": "venv",
   "language": "python",
   "name": "python3"
  },
  "language_info": {
   "codemirror_mode": {
    "name": "ipython",
    "version": 3
   },
   "file_extension": ".py",
   "mimetype": "text/x-python",
   "name": "python",
   "nbconvert_exporter": "python",
   "pygments_lexer": "ipython3",
   "version": "3.10.11"
  }
 },
 "nbformat": 4,
 "nbformat_minor": 5
}
