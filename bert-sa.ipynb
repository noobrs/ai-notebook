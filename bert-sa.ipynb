{
 "cells": [
  {
   "cell_type": "code",
   "execution_count": 1,
   "id": "6fd8aa22",
   "metadata": {},
   "outputs": [
    {
     "name": "stdout",
     "output_type": "stream",
     "text": [
      "   Unnamed: 0  Rating (out of 10)  \\\n",
      "0           0                   9   \n",
      "1           1                  10   \n",
      "2           2                  10   \n",
      "3           3                   9   \n",
      "4           4                   9   \n",
      "\n",
      "                                              Review    Show ID   Review ID  \n",
      "0  Andor was every bit as good as I was hoping fo...  tt9253284  rw10514299  \n",
      "1  Wow. I just finished episode 12 of the first s...  tt9253284   rw8690571  \n",
      "2  Andor Season 2 is the best Star Wars Show ever...  tt9253284  rw10514285  \n",
      "3  There were a few episodes I didn't like in bot...  tt9253284  rw10514788  \n",
      "4  Didnt like the new movies and even Mandalorian...  tt9253284   rw8665236  \n",
      "<class 'pandas.core.frame.DataFrame'>\n",
      "RangeIndex: 8319 entries, 0 to 8318\n",
      "Data columns (total 5 columns):\n",
      " #   Column              Non-Null Count  Dtype \n",
      "---  ------              --------------  ----- \n",
      " 0   Unnamed: 0          8319 non-null   int64 \n",
      " 1   Rating (out of 10)  8319 non-null   int64 \n",
      " 2   Review              8319 non-null   object\n",
      " 3   Show ID             8319 non-null   object\n",
      " 4   Review ID           8319 non-null   object\n",
      "dtypes: int64(2), object(3)\n",
      "memory usage: 325.1+ KB\n",
      "None\n"
     ]
    }
   ],
   "source": [
    "import pandas as pd\n",
    "\n",
    "df = pd.read_csv(\"imdb_tvshows.csv\")\n",
    "print(df.head())\n",
    "print(df.info())\n"
   ]
  },
  {
   "cell_type": "code",
   "execution_count": 2,
   "id": "116ca34c",
   "metadata": {},
   "outputs": [],
   "source": [
    "# binary sentiment label: ≥7 → positive (1)  else negative (0)\n",
    "df[\"label\"] = (df[\"Rating (out of 10)\"] >= 7).astype(\"int8\")\n"
   ]
  },
  {
   "cell_type": "code",
   "execution_count": 3,
   "id": "d209faad",
   "metadata": {},
   "outputs": [],
   "source": [
    "import re, emoji, html\n",
    "from bs4 import BeautifulSoup\n",
    "\n",
    "def clean(text):\n",
    "    text = BeautifulSoup(text, \"html.parser\").get_text(\" \")  # strip HTML tags\n",
    "    text = html.unescape(text)                               # e.g. &amp; → &\n",
    "    text = emoji.demojize(text, delimiters=(\" \", \" \"))       # 😀 →  smile_face \n",
    "    text = re.sub(r\"\\s+\", \" \", text).strip()                 # collapse spaces\n",
    "    return text.lower()                                      # BERT-uncased\n",
    "df[\"clean_review\"] = df[\"Review\"].astype(str).apply(clean)\n",
    "df = df.drop_duplicates(subset=\"clean_review\")\n",
    "df = df[~df[\"clean_review\"].str.len().lt(5)]                 # drop ultra-short\n"
   ]
  },
  {
   "cell_type": "code",
   "execution_count": 4,
   "id": "b311d08e",
   "metadata": {},
   "outputs": [],
   "source": [
    "from sklearn.model_selection import train_test_split\n",
    "\n",
    "train_df, temp_df = train_test_split(df, test_size=0.2, stratify=df[\"label\"], random_state=42)\n",
    "val_df, test_df   = train_test_split(temp_df, test_size=0.5, stratify=temp_df[\"label\"], random_state=42)\n"
   ]
  },
  {
   "cell_type": "code",
   "execution_count": 5,
   "id": "cc6f1a61",
   "metadata": {},
   "outputs": [
    {
     "name": "stderr",
     "output_type": "stream",
     "text": [
      "d:\\ai-notebook\\venv\\lib\\site-packages\\tqdm\\auto.py:21: TqdmWarning: IProgress not found. Please update jupyter and ipywidgets. See https://ipywidgets.readthedocs.io/en/stable/user_install.html\n",
      "  from .autonotebook import tqdm as notebook_tqdm\n",
      "Map: 100%|██████████| 6654/6654 [00:01<00:00, 5460.05 examples/s]\n",
      "Map: 100%|██████████| 832/832 [00:00<00:00, 5916.88 examples/s]\n",
      "Map: 100%|██████████| 832/832 [00:00<00:00, 6708.95 examples/s]\n"
     ]
    }
   ],
   "source": [
    "from datasets import Dataset, DatasetDict\n",
    "from transformers import AutoTokenizer\n",
    "\n",
    "tok = AutoTokenizer.from_pretrained(\"bert-base-uncased\")\n",
    "\n",
    "def tokenize(batch):\n",
    "    return tok(batch[\"clean_review\"],\n",
    "               padding=\"max_length\",\n",
    "               truncation=True,\n",
    "               max_length=128)\n",
    "\n",
    "ds = DatasetDict({\n",
    "    \"train\": Dataset.from_pandas(train_df[[\"clean_review\", \"label\"]]),\n",
    "    \"validation\": Dataset.from_pandas(val_df[[\"clean_review\", \"label\"]]),\n",
    "    \"test\": Dataset.from_pandas(test_df[[\"clean_review\", \"label\"]]),\n",
    "}).map(tokenize, batched=True).remove_columns([\"clean_review\"])\n"
   ]
  },
  {
   "cell_type": "code",
   "execution_count": 6,
   "id": "96033d96",
   "metadata": {},
   "outputs": [
    {
     "name": "stderr",
     "output_type": "stream",
     "text": [
      "Some weights of BertForSequenceClassification were not initialized from the model checkpoint at bert-base-uncased and are newly initialized: ['classifier.bias', 'classifier.weight']\n",
      "You should probably TRAIN this model on a down-stream task to be able to use it for predictions and inference.\n"
     ]
    },
    {
     "data": {
      "text/html": [
       "\n",
       "    <div>\n",
       "      \n",
       "      <progress value='2496' max='2496' style='width:300px; height:20px; vertical-align: middle;'></progress>\n",
       "      [2496/2496 12:05, Epoch 3/3]\n",
       "    </div>\n",
       "    <table border=\"1\" class=\"dataframe\">\n",
       "  <thead>\n",
       " <tr style=\"text-align: left;\">\n",
       "      <th>Epoch</th>\n",
       "      <th>Training Loss</th>\n",
       "      <th>Validation Loss</th>\n",
       "      <th>Accuracy</th>\n",
       "      <th>Precision</th>\n",
       "      <th>Recall</th>\n",
       "      <th>F1</th>\n",
       "    </tr>\n",
       "  </thead>\n",
       "  <tbody>\n",
       "    <tr>\n",
       "      <td>1</td>\n",
       "      <td>0.556700</td>\n",
       "      <td>0.509695</td>\n",
       "      <td>0.786058</td>\n",
       "      <td>0.393029</td>\n",
       "      <td>0.500000</td>\n",
       "      <td>0.440108</td>\n",
       "    </tr>\n",
       "    <tr>\n",
       "      <td>2</td>\n",
       "      <td>0.483600</td>\n",
       "      <td>0.508324</td>\n",
       "      <td>0.783654</td>\n",
       "      <td>0.518116</td>\n",
       "      <td>0.500515</td>\n",
       "      <td>0.444766</td>\n",
       "    </tr>\n",
       "    <tr>\n",
       "      <td>3</td>\n",
       "      <td>0.376000</td>\n",
       "      <td>0.602140</td>\n",
       "      <td>0.776442</td>\n",
       "      <td>0.583750</td>\n",
       "      <td>0.518417</td>\n",
       "      <td>0.493181</td>\n",
       "    </tr>\n",
       "  </tbody>\n",
       "</table><p>"
      ],
      "text/plain": [
       "<IPython.core.display.HTML object>"
      ]
     },
     "metadata": {},
     "output_type": "display_data"
    },
    {
     "name": "stderr",
     "output_type": "stream",
     "text": [
      "d:\\ai-notebook\\venv\\lib\\site-packages\\sklearn\\metrics\\_classification.py:1731: UndefinedMetricWarning: Precision is ill-defined and being set to 0.0 in labels with no predicted samples. Use `zero_division` parameter to control this behavior.\n",
      "  _warn_prf(average, modifier, f\"{metric.capitalize()} is\", result.shape[0])\n"
     ]
    },
    {
     "data": {
      "text/plain": [
       "TrainOutput(global_step=2496, training_loss=0.4848806155033601, metrics={'train_runtime': 726.9944, 'train_samples_per_second': 27.458, 'train_steps_per_second': 3.433, 'total_flos': 1313055721774080.0, 'train_loss': 0.4848806155033601, 'epoch': 3.0})"
      ]
     },
     "execution_count": 6,
     "metadata": {},
     "output_type": "execute_result"
    }
   ],
   "source": [
    "from transformers import (AutoModelForSequenceClassification,\n",
    "                          TrainingArguments, Trainer)\n",
    "# from evaluate import evaluate\n",
    "import numpy as np\n",
    "from sklearn.metrics import (accuracy_score, precision_recall_fscore_support)\n",
    "\n",
    "model = AutoModelForSequenceClassification.from_pretrained(\n",
    "    \"bert-base-uncased\",\n",
    "    num_labels=2\n",
    ")\n",
    "\n",
    "def compute_metrics(eval_pred):\n",
    "    logits, labels = eval_pred\n",
    "    preds = np.argmax(logits, axis=-1)\n",
    "    acc  = accuracy_score(labels, preds)\n",
    "    p, r, f, _ = precision_recall_fscore_support(labels, preds, average=\"macro\")\n",
    "    return {\"accuracy\": acc, \"precision\": p, \"recall\": r, \"f1\": f}\n",
    "\n",
    "args = TrainingArguments(\n",
    "    output_dir=\"bert-imdb-sentiment\",\n",
    "    learning_rate=2e-5,\n",
    "    per_device_train_batch_size=8,\n",
    "    per_device_eval_batch_size=8,\n",
    "    num_train_epochs=3,\n",
    "    warmup_steps=200,\n",
    "    weight_decay=0.01,\n",
    "    eval_strategy=\"epoch\",\n",
    "    save_strategy=\"epoch\",\n",
    "    load_best_model_at_end=True,\n",
    "    metric_for_best_model=\"f1\",\n",
    "    push_to_hub=False,\n",
    "    logging_steps=100\n",
    ")\n",
    "\n",
    "trainer = Trainer(\n",
    "    model=model,\n",
    "    args=args,\n",
    "    train_dataset=ds[\"train\"],\n",
    "    eval_dataset=ds[\"validation\"],\n",
    "    compute_metrics=compute_metrics\n",
    ")\n",
    "\n",
    "trainer.train()\n"
   ]
  },
  {
   "cell_type": "code",
   "execution_count": 7,
   "id": "0ffa911d",
   "metadata": {},
   "outputs": [
    {
     "data": {
      "text/html": [],
      "text/plain": [
       "<IPython.core.display.HTML object>"
      ]
     },
     "metadata": {},
     "output_type": "display_data"
    },
    {
     "data": {
      "text/plain": [
       "{'eval_loss': 0.6046599745750427,\n",
       " 'eval_accuracy': 0.7620192307692307,\n",
       " 'eval_precision': 0.5457800511508951,\n",
       " 'eval_recall': 0.5153764216747414,\n",
       " 'eval_f1': 0.4968479695059375,\n",
       " 'eval_runtime': 6.8479,\n",
       " 'eval_samples_per_second': 121.497,\n",
       " 'eval_steps_per_second': 15.187,\n",
       " 'epoch': 3.0}"
      ]
     },
     "execution_count": 7,
     "metadata": {},
     "output_type": "execute_result"
    }
   ],
   "source": [
    "trainer.evaluate(ds[\"test\"])"
   ]
  },
  {
   "cell_type": "code",
   "execution_count": 8,
   "id": "0273559f",
   "metadata": {},
   "outputs": [
    {
     "data": {
      "image/png": "[encoded data removed]",
      "text/plain": [
       "<Figure size 640x480 with 2 Axes>"
      ]
     },
     "metadata": {},
     "output_type": "display_data"
    }
   ],
   "source": [
    "import seaborn as sns, matplotlib.pyplot as plt\n",
    "from sklearn.metrics import confusion_matrix\n",
    "\n",
    "preds = trainer.predict(ds[\"test\"]).predictions.argmax(-1)\n",
    "cm = confusion_matrix(test_df[\"label\"], preds)\n",
    "sns.heatmap(cm, annot=True, fmt=\"d\")\n",
    "plt.xlabel(\"Predicted\"); plt.ylabel(\"True\"); plt.title(\"BERT IMDb Review Confusion Matrix\")\n",
    "plt.show()\n"
   ]
  },
  {
   "cell_type": "code",
   "execution_count": 9,
   "id": "8ac21272",
   "metadata": {},
   "outputs": [
    {
     "data": {
      "text/plain": [
       "('bert-imdb-sentiment/best\\\\tokenizer_config.json',\n",
       " 'bert-imdb-sentiment/best\\\\special_tokens_map.json',\n",
       " 'bert-imdb-sentiment/best\\\\vocab.txt',\n",
       " 'bert-imdb-sentiment/best\\\\added_tokens.json',\n",
       " 'bert-imdb-sentiment/best\\\\tokenizer.json')"
      ]
     },
     "execution_count": 9,
     "metadata": {},
     "output_type": "execute_result"
    }
   ],
   "source": [
    "model.save_pretrained(\"bert-imdb-sentiment/best\")\n",
    "tok.save_pretrained(\"bert-imdb-sentiment/best\")\n"
   ]
  },
  {
   "cell_type": "code",
   "execution_count": 11,
   "id": "839fa3e1",
   "metadata": {},
   "outputs": [
    {
     "name": "stderr",
     "output_type": "stream",
     "text": [
      "Device set to use cuda:0\n"
     ]
    },
    {
     "data": {
      "text/plain": [
       "[{'label': 'LABEL_0', 'score': 0.7950043678283691}]"
      ]
     },
     "execution_count": 11,
     "metadata": {},
     "output_type": "execute_result"
    }
   ],
   "source": [
    "from transformers import pipeline\n",
    "sent_classifier = pipeline(\"sentiment-analysis\",\n",
    "                           model=\"bert-imdb-sentiment/best\",\n",
    "                           tokenizer=\"bert-imdb-sentiment/best\")\n",
    "\n",
    "sent_classifier(\"Surprisingly heartfelt—and easily the worst show this year!\")\n"
   ]
  },
  {
   "cell_type": "code",
   "execution_count": null,
   "id": "b5ed2185",
   "metadata": {},
   "outputs": [
    {
     "data": {
      "text/plain": [
       "[{'label': 'LABEL_1', 'score': 0.8860654830932617}]"
      ]
     },
     "execution_count": 12,
     "metadata": {},
     "output_type": "execute_result"
    }
   ],
   "source": [
    "# Sarcastic & Subtle Negative\n",
    "\n",
    "sent_classifier(\"Oh, The Golden Age of Dragons! I had such high hopes for this one, and it certainly delivered... on being consistently mediocre. The CGI dragons looked truly fine, if you like your mythical beasts resembling glorified frisbees. And the plot? Well, it was a bold choice to prioritize endless political chatter over, you know, actual dragon-related action. A masterclass in wasted potential, really.\")\n",
    "\n",
    "# failed"
   ]
  },
  {
   "cell_type": "code",
   "execution_count": null,
   "id": "3c0b61c1",
   "metadata": {},
   "outputs": [
    {
     "data": {
      "text/plain": [
       "[{'label': 'LABEL_1', 'score': 0.9044130444526672}]"
      ]
     },
     "execution_count": 13,
     "metadata": {},
     "output_type": "execute_result"
    }
   ],
   "source": [
    "# Mixed Emotions / Contradictory\n",
    "\n",
    "sent_classifier(\"While the acting in Crime City Confidential was genuinely captivating, carrying scenes that had no business being watchable, the writing felt like it was generated by a malfunctioning bot. So, you'll be alternately mesmerized by the performances and infuriated by the nonsensical plot twists. A truly frustrating yet undeniably engaging experience.\")"
   ]
  },
  {
   "cell_type": "code",
   "execution_count": null,
   "id": "f205fec3",
   "metadata": {},
   "outputs": [
    {
     "data": {
      "text/plain": [
       "[{'label': 'LABEL_1', 'score': 0.9138622879981995}]"
      ]
     },
     "execution_count": 14,
     "metadata": {},
     "output_type": "execute_result"
    }
   ],
   "source": [
    "# Ambiguous / Implied Negative\n",
    "\n",
    "sent_classifier(\"I wouldn't say Family Ties Revisited was bad, per se. It just... existed. Like a comfortable, slightly dusty old sweater you find in the back of your closet. It won't offend anyone, but it won't  exactly thrill them either. If you have absolutely nothing else to watch, and a fondness for nostalgia, then by all means.\")"
   ]
  }
 ],
 "metadata": {
  "kernelspec": {
   "display_name": "venv",
   "language": "python",
   "name": "python3"
  },
  "language_info": {
   "codemirror_mode": {
    "name": "ipython",
    "version": 3
   },
   "file_extension": ".py",
   "mimetype": "text/x-python",
   "name": "python",
   "nbconvert_exporter": "python",
   "pygments_lexer": "ipython3",
   "version": "3.10.11"
  }
 },
 "nbformat": 4,
 "nbformat_minor": 5
}
