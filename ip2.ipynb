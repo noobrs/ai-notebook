{
 "cells": [
  {
   "cell_type": "code",
   "execution_count": 1,
   "id": "7efa8078",
   "metadata": {},
   "outputs": [],
   "source": [
    "import cv2, pywt, numpy as np\n",
    "from pathlib import Path"
   ]
  },
  {
   "cell_type": "code",
   "execution_count": 7,
   "id": "f4e27459",
   "metadata": {},
   "outputs": [
    {
     "data": {
      "text/plain": [
       "-1"
      ]
     },
     "execution_count": 7,
     "metadata": {},
     "output_type": "execute_result"
    }
   ],
   "source": [
    "# ========== 1. Load host & watermark ==========\n",
    "host_path      = Path(r\"images\\chihuahua.webp\")        # any 8-bit gray image, e.g. 512×512\n",
    "watermark_path = Path(r\"images\\watermark.jpg\")          # a *smaller* gray logo, e.g. 64×64\n",
    "host_img       = cv2.imread(str(host_path), cv2.IMREAD_GRAYSCALE)\n",
    "wm_img         = cv2.imread(str(watermark_path), cv2.IMREAD_GRAYSCALE)\n",
    "if host_img is None or wm_img is None:\n",
    "    raise FileNotFoundError(\"Check host / wm paths\")\n",
    "\n",
    "# optional: make watermark square & power-of-two for nicer shapes\n",
    "host_img = cv2.resize(host_img, (512, 512), interpolation=cv2.INTER_AREA)\n",
    "wm_img = cv2.resize(wm_img, (64, 64), interpolation=cv2.INTER_AREA)\n",
    "\n",
    "cv2.imshow(\"Host\", host_img)\n",
    "cv2.imshow(\"Watermark\", wm_img)\n",
    "cv2.waitKey(0)"
   ]
  },
  {
   "cell_type": "code",
   "execution_count": 3,
   "id": "9c48a224",
   "metadata": {},
   "outputs": [
    {
     "name": "stdout",
     "output_type": "stream",
     "text": [
      "Fused cV4 shape: (32, 32), Watermark shape: (32, 32)\n"
     ]
    }
   ],
   "source": [
    "# ========== 2. Forward DWTs ==========\n",
    "wavelet, host_level = \"haar\", 4\n",
    "wm_level = 1\n",
    "alpha = 0.04\n",
    "\n",
    "coeffs_host = pywt.wavedec2(host_img, wavelet=wavelet, level=host_level)\n",
    "cA4, detail_host   = coeffs_host[0], coeffs_host[1:]        # host coeff stack\n",
    "\n",
    "coeffs_wm  = pywt.wavedec2(wm_img,  wavelet=wavelet, level=wm_level)\n",
    "cA_wm, (cH_wm, cV_wm, cD_wm) = coeffs_wm                   # watermark LL₁ + details\n",
    "\n",
    "print(f\"Fused cV4 shape: {cA4.shape}, Watermark shape: {cA_wm.shape}\")"
   ]
  },
  {
   "cell_type": "markdown",
   "id": "13455333",
   "metadata": {},
   "source": [
    "### DWT coefficient fusion"
   ]
  },
  {
   "cell_type": "code",
   "execution_count": 4,
   "id": "8b49fa42",
   "metadata": {},
   "outputs": [],
   "source": [
    "# ========== 3. Coefficient-fusion rule ==========\n",
    "# We embed watermark’s LL₁ into host’s HL₄ (cV4) after resizing if shapes differ.\n",
    "cH4, cV4, cD4           = detail_host[0]                   # HL₄, etc.\n",
    "cH4_wm                  = cH4 + alpha * cA_wm          # fusion\n",
    "\n",
    "# put back the modified sub-band\n",
    "detail_host[0]         = (cH4_wm, cV4, cD4)\n",
    "coeff_emb            = [cA4] + detail_host\n",
    "\n",
    "# print(f\"Fused cV4 shape: {cV4_wm.shape}, Watermark shape: {cA_wm.shape}\")"
   ]
  },
  {
   "cell_type": "markdown",
   "id": "d943c9ba",
   "metadata": {},
   "source": [
    "### with SVD"
   ]
  },
  {
   "cell_type": "code",
   "execution_count": 92,
   "id": "08b5c377",
   "metadata": {},
   "outputs": [],
   "source": [
    "# ========== 3. SVDs ==========\n",
    "cH4, cV4, cD4           = detail_host[0]   \n",
    "U_h, S_h, Vh_h      = np.linalg.svd(cV4, full_matrices=False)\n",
    "U_w,   S_w, Vh_w         = np.linalg.svd(cA_wm, full_matrices=False)\n",
    "\n",
    "S_emb               = S_h + alpha * S_w\n",
    "cV4_emb             = (U_h @ np.diag(S_emb) @ Vh_h)\n",
    "\n",
    "# put back & inverse DWT\n",
    "detail_host[0]     = (cH4, cV4_emb, cD4)\n",
    "coeff_emb           = [cA4] + detail_host"
   ]
  },
  {
   "cell_type": "code",
   "execution_count": 6,
   "id": "479f89ab",
   "metadata": {},
   "outputs": [
    {
     "name": "stdout",
     "output_type": "stream",
     "text": [
      "✅ Watermarked image saved → watermarked.png\n"
     ]
    },
    {
     "data": {
      "text/plain": [
       "-1"
      ]
     },
     "execution_count": 6,
     "metadata": {},
     "output_type": "execute_result"
    }
   ],
   "source": [
    "# ========== 4. Inverse DWT ⇒ watermarked image ==========\n",
    "watermarked_img = (\n",
    "    pywt.waverec2(coeff_emb, wavelet)\n",
    "    .clip(0, 255)\n",
    "    .astype(np.uint8)\n",
    ")\n",
    "cv2.imwrite(\"watermarked.png\", watermarked_img)\n",
    "print(\"✅ Watermarked image saved → watermarked.png\")\n",
    "\n",
    "cv2.imshow(\"Watermarked Image\", watermarked_img)\n",
    "cv2.waitKey(0)"
   ]
  },
  {
   "cell_type": "code",
   "execution_count": 94,
   "id": "3ea834f3",
   "metadata": {},
   "outputs": [
    {
     "name": "stdout",
     "output_type": "stream",
     "text": [
      "PSNR: 46.74 dB\n"
     ]
    }
   ],
   "source": [
    "# ========== 5. PSNR (cover ↔ watermarked) ==========\n",
    "def psnr(a, b, max_val=255.0):\n",
    "    mse = np.mean((a.astype(np.float32) - b.astype(np.float32)) ** 2)\n",
    "    return 20 * np.log10(max_val) - 10 * np.log10(mse)\n",
    "\n",
    "print(f\"PSNR: {psnr(host_img, watermarked_img):.2f} dB\")"
   ]
  },
  {
   "cell_type": "markdown",
   "id": "5dcf2639",
   "metadata": {},
   "source": [
    "### Extraction (DWT coefficient fusion)"
   ]
  },
  {
   "cell_type": "code",
   "execution_count": 95,
   "id": "7b45df7b",
   "metadata": {},
   "outputs": [],
   "source": [
    "# # ========== 6. Extract watermark & BER ==========\n",
    "# # (In practice, start from an attacked/received image.)\n",
    "# wmd_path      = Path(r\"watermarked.png\")\n",
    "# wmd_img         = cv2.imread(str(wmd_path), cv2.IMREAD_GRAYSCALE)\n",
    "\n",
    "# if wmd_img is None:\n",
    "#     raise FileNotFoundError(\"Check wmd path\")\n",
    "\n",
    "# wmd_img = cv2.resize(wmd_img, (512, 512), interpolation=cv2.INTER_AREA)\n",
    "\n",
    "# coeffs_rcv            = pywt.wavedec2(wmd_img, wavelet=wavelet, level=host_level)\n",
    "# cA4_rcv, det_rcv      = coeffs_rcv[0], coeffs_rcv[1:]\n",
    "# cH4_rcv, cV4_rcv, _   = det_rcv[0]\n",
    "\n",
    "# extracted_LL1         = (cV4_rcv - cV4) / alpha # reverse the fusion\n",
    "# extracted_LL1         = np.round(extracted_LL1).astype(np.int16)\n",
    "\n",
    "# # Optionally rebuild the watermark image for visual inspection\n",
    "# coeffs_wm_rcv  = [extracted_LL1, (np.zeros_like(cH_wm),\n",
    "#                                   np.zeros_like(cV_wm),\n",
    "#                                   np.zeros_like(cD_wm))]\n",
    "# wm_rcv_img     = pywt.waverec2(coeffs_wm_rcv, wavelet).clip(0,255).astype(np.uint8)\n",
    "# cv2.imwrite(\"wm_extracted.png\", wm_rcv_img)\n",
    "# print(\"✅ Extracted watermark saved → wm_extracted.png\")\n",
    "\n",
    "# cv2.imshow(\"Extracted Watermark\", wm_rcv_img)\n",
    "# cv2.waitKey(0)"
   ]
  },
  {
   "cell_type": "markdown",
   "id": "f4077cbb",
   "metadata": {},
   "source": [
    "### Extraction (SVD)"
   ]
  },
  {
   "cell_type": "code",
   "execution_count": 99,
   "id": "8f072938",
   "metadata": {},
   "outputs": [
    {
     "name": "stdout",
     "output_type": "stream",
     "text": [
      "✅ Extracted watermark saved → wm_extracted.png\n"
     ]
    },
    {
     "data": {
      "text/plain": [
       "-1"
      ]
     },
     "execution_count": 99,
     "metadata": {},
     "output_type": "execute_result"
    }
   ],
   "source": [
    "# ========== 6. Extract watermark & BER ==========\n",
    "# (In practice, start from an attacked/received image.)\n",
    "wmd_path      = Path(r\"wa_watermarked.jpg\")\n",
    "wmd_img         = cv2.imread(str(wmd_path), cv2.IMREAD_GRAYSCALE)\n",
    "\n",
    "if wmd_img is None:\n",
    "    raise FileNotFoundError(\"Check wmd path\")\n",
    "\n",
    "wmd_img = cv2.resize(wmd_img, (512, 512), interpolation=cv2.INTER_AREA)\n",
    "\n",
    "coeffs_rcv            = pywt.wavedec2(wmd_img, wavelet=wavelet, level=host_level)\n",
    "cA4_rcv, det_rcv      = coeffs_rcv[0], coeffs_rcv[1:]\n",
    "cH4_rcv, cV4_rcv, _   = det_rcv[0]\n",
    "\n",
    "# ---- 2. SVD on the received sub-band ----\n",
    "U_r, S_r, Vh_r   = np.linalg.svd(cV4_rcv, full_matrices=False)\n",
    "\n",
    "# ---- 3. Recover watermark Σ ----\n",
    "S_w_rec          = (S_r - S_h) / alpha\n",
    "\n",
    "# ---- 4. Rebuild LL₁ estimate of watermark ----\n",
    "wm_LL_est        = U_w @ np.diag(S_w_rec) @ Vh_w        # uses original U_h & V_h\n",
    "wm_rcv_img           = pywt.waverec2([wm_LL_est, (np.zeros_like(wm_LL_est),\n",
    "                                             np.zeros_like(wm_LL_est),\n",
    "                                             np.zeros_like(wm_LL_est))],\n",
    "                                wavelet).clip(0,255).astype(np.uint8)\n",
    "\n",
    "cv2.imwrite(\"wm_extracted.png\", wm_rcv_img)\n",
    "print(\"✅ Extracted watermark saved → wm_extracted.png\")\n",
    "\n",
    "cv2.imshow(\"Extracted Watermark\", wm_rcv_img)\n",
    "cv2.waitKey(0)"
   ]
  },
  {
   "cell_type": "code",
   "execution_count": 100,
   "id": "d67d4c9e",
   "metadata": {},
   "outputs": [
    {
     "name": "stdout",
     "output_type": "stream",
     "text": [
      "BER  : 0.0876\n",
      "PSNR : 44.45 dB (cover ↔ watermarked)\n"
     ]
    }
   ],
   "source": [
    "# ---- 5. Metrics ----\n",
    "orig_bits = (wm_img > 127).astype(np.uint8)\n",
    "recv_bits = (wm_rcv_img[:wm_img.shape[0], :wm_img.shape[1]] > 127).astype(np.uint8)\n",
    "ber       = np.mean(orig_bits != recv_bits)\n",
    "print(f\"BER  : {ber:.4f}\")\n",
    "print(f\"PSNR : {psnr(host_img, wmd_img):.2f} dB (cover ↔ watermarked)\")"
   ]
  },
  {
   "cell_type": "code",
   "execution_count": 98,
   "id": "d8e7d7b3",
   "metadata": {},
   "outputs": [],
   "source": [
    "# def calculate_ber(transmitted_bits, received_bits):\n",
    "#     \"\"\"\n",
    "#     Calculates the Bit Error Rate (BER) between two bit sequences.\n",
    "\n",
    "#     Args:\n",
    "#         transmitted_bits (list or array-like): The sequence of bits that were transmitted.\n",
    "#         received_bits (list or array-like): The sequence of bits that were received.\n",
    "\n",
    "#     Returns:\n",
    "#         float: The calculated Bit Error Rate (BER).\n",
    "#               Returns 0.0 if the sequences are empty or if no errors occur.\n",
    "#               Returns None if the lengths of the sequences do not match.\n",
    "#     \"\"\"\n",
    "#     # Convert to numpy arrays for easier handling\n",
    "#     transmitted_bits = np.array(transmitted_bits)\n",
    "#     received_bits = np.array(received_bits)\n",
    "    \n",
    "#     if len(transmitted_bits) != len(received_bits):\n",
    "#         print(\"Error: Transmitted and received bit sequences must have the same length.\")\n",
    "#         return None\n",
    "\n",
    "#     if len(transmitted_bits) == 0:  # Handle empty sequences\n",
    "#         return 0.0\n",
    "\n",
    "#     # Calculate errors using vectorized operations\n",
    "#     errors = np.sum(transmitted_bits != received_bits)\n",
    "#     ber = errors / len(transmitted_bits)\n",
    "#     return ber\n",
    "\n",
    "# # Convert to binary for proper BER calculation\n",
    "# def to_binary_array(img_array, threshold=128):\n",
    "#     \"\"\"Convert grayscale values to binary (0/1)\"\"\"\n",
    "#     return (img_array > threshold).astype(np.uint8)\n",
    "\n",
    "# # Calculate BER with binary conversion\n",
    "# original_bits = to_binary_array(cA_wm)\n",
    "# extracted_bits = to_binary_array(extracted_LL1)\n",
    "\n",
    "# ber = calculate_ber(original_bits.flatten(), extracted_bits.flatten())\n",
    "# print(f\"BER:  {ber:.4f}\")\n",
    "\n",
    "# # Also calculate correlation for additional metric\n",
    "# correlation = np.corrcoef(cA_wm.flatten(), extracted_LL1.flatten())[0,1]\n",
    "# print(f\"Correlation: {correlation:.4f}\")"
   ]
  }
 ],
 "metadata": {
  "kernelspec": {
   "display_name": "venv",
   "language": "python",
   "name": "python3"
  },
  "language_info": {
   "codemirror_mode": {
    "name": "ipython",
    "version": 3
   },
   "file_extension": ".py",
   "mimetype": "text/x-python",
   "name": "python",
   "nbconvert_exporter": "python",
   "pygments_lexer": "ipython3",
   "version": "3.10.11"
  }
 },
 "nbformat": 4,
 "nbformat_minor": 5
}
